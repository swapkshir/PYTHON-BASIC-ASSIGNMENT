{
 "cells": [
  {
   "cell_type": "code",
   "execution_count": null,
   "id": "59047b06",
   "metadata": {},
   "outputs": [],
   "source": [
    "#Q1\n",
    "'''True\n",
    "False\n",
    "'''"
   ]
  },
  {
   "cell_type": "code",
   "execution_count": null,
   "id": "9865d7bd",
   "metadata": {},
   "outputs": [],
   "source": [
    "#Q2\n",
    "'''AND OR NOT\n",
    "'''"
   ]
  },
  {
   "cell_type": "code",
   "execution_count": 5,
   "id": "b0c728fe",
   "metadata": {},
   "outputs": [
    {
     "name": "stdout",
     "output_type": "stream",
     "text": [
      "True\n",
      "False\n",
      "False\n",
      "False\n",
      "True\n",
      "True\n",
      "True\n",
      "False\n",
      "False\n",
      "True\n"
     ]
    }
   ],
   "source": [
    "#Q3\n",
    "\n",
    "print(True and True)\n",
    "print(True and False)\n",
    "print(False and True)\n",
    "print(False and False)\n",
    "\n",
    "print(True or True)\n",
    "print(True  or False)\n",
    "print(False  or True)\n",
    "print(False  or False)\n",
    "\n",
    "print(not True )\n",
    "print(not False  )"
   ]
  },
  {
   "cell_type": "code",
   "execution_count": null,
   "id": "e65a1b86",
   "metadata": {},
   "outputs": [],
   "source": [
    "#Q4\n",
    "'''\n",
    "(5 > 4) and (3 == 5)                >> false\n",
    "not (5 > 4)                         >> false\n",
    "(5 > 4) or (3 == 5)                     >>true\n",
    "not ((5 > 4) or (3 == 5))                >> false\n",
    "(True and True) and (True == False)        >> error\n",
    "(not False) or (not True)                      >> true\n",
    "'''\n"
   ]
  },
  {
   "cell_type": "code",
   "execution_count": null,
   "id": "bfb30d31",
   "metadata": {},
   "outputs": [],
   "source": [
    "#Q5\n",
    "'''\n",
    "==\n",
    ">\n",
    "<\n",
    ">=\n",
    "<=\n",
    "!=\n",
    "'''"
   ]
  },
  {
   "cell_type": "code",
   "execution_count": null,
   "id": "e5261a3f",
   "metadata": {},
   "outputs": [],
   "source": [
    "#Q6\n",
    "'''\n",
    "= assignment operator>> used to assign the value in operator\n",
    "eg a=5\n",
    "\n",
    "== equal to>> used to compare the values\n",
    "eg if a==b:   >> to compare a and b\n",
    "'''\n",
    "      "
   ]
  },
  {
   "cell_type": "code",
   "execution_count": 9,
   "id": "dbbcd1fb",
   "metadata": {},
   "outputs": [
    {
     "name": "stdout",
     "output_type": "stream",
     "text": [
      "ham\n",
      "spam\n",
      "spam\n"
     ]
    }
   ],
   "source": [
    "#Q7\n",
    "spam = 0\n",
    "if spam == 10:\n",
    "    print('eggs')\n",
    "if spam > 5:\n",
    "    print('bacon')\n",
    "else:\n",
    "    print('ham')\n",
    "    print('spam')\n",
    "    print('spam')\n"
   ]
  },
  {
   "cell_type": "code",
   "execution_count": 10,
   "id": "6461fa6b",
   "metadata": {},
   "outputs": [
    {
     "name": "stdout",
     "output_type": "stream",
     "text": [
      "Greetings\n"
     ]
    }
   ],
   "source": [
    "#Q8\n",
    "\n",
    "spam=3\n",
    "if spam==1:\n",
    "    print(\"Hello\")\n",
    "if spam==2:\n",
    "    print(\"Howdy\")\n",
    "else:\n",
    "    print(\"Greetings\")"
   ]
  },
  {
   "cell_type": "code",
   "execution_count": null,
   "id": "2b5988fa",
   "metadata": {},
   "outputs": [],
   "source": [
    "#Q9\n",
    "'''stop by clicking stop button in pycharm jupyter\n",
    "or CTRL + C'''\n"
   ]
  },
  {
   "cell_type": "code",
   "execution_count": null,
   "id": "bb69907f",
   "metadata": {},
   "outputs": [],
   "source": [
    "#Q10\n",
    "'''\n",
    "break is used to stop the loop\n",
    "continue is skipping the code written after continue statment and goes back to loop statment\n",
    "means skips that particular code'''"
   ]
  },
  {
   "cell_type": "code",
   "execution_count": 15,
   "id": "ae1469f2",
   "metadata": {},
   "outputs": [
    {
     "name": "stdout",
     "output_type": "stream",
     "text": [
      "0\n",
      "1\n",
      "2\n",
      "3\n",
      "4\n",
      "5\n",
      "6\n",
      "7\n",
      "8\n",
      "9\n"
     ]
    }
   ],
   "source": [
    "#Q11\n",
    "'''\n",
    "all three produces same result\n",
    "'''\n",
    "for i in range (10):\n",
    "    print(i)\n",
    "    \n",
    "for i in range (0,10):\n",
    "    print(i)\n",
    "    \n",
    "for i in range (0,10,1):\n",
    "    print(i)"
   ]
  },
  {
   "cell_type": "code",
   "execution_count": 19,
   "id": "20b68592",
   "metadata": {},
   "outputs": [
    {
     "name": "stdout",
     "output_type": "stream",
     "text": [
      "0\n",
      "1\n",
      "2\n",
      "3\n",
      "4\n",
      "5\n",
      "6\n",
      "7\n",
      "8\n",
      "9\n",
      "0\n",
      "1\n",
      "2\n",
      "3\n",
      "4\n",
      "5\n",
      "6\n",
      "7\n",
      "8\n",
      "9\n"
     ]
    }
   ],
   "source": [
    "#Q12\n",
    "for i in range (0,10,1):\n",
    "    print(i)\n",
    "    \n",
    "    \n",
    "i=0  \n",
    "while (i<10):\n",
    "    print(i)\n",
    "    i+=1"
   ]
  },
  {
   "cell_type": "code",
   "execution_count": null,
   "id": "37ffa8fe",
   "metadata": {},
   "outputs": [],
   "source": [
    "#Q13\n",
    "'''\n",
    "bacon()\n",
    "'''\n"
   ]
  },
  {
   "cell_type": "code",
   "execution_count": null,
   "id": "023060d7",
   "metadata": {},
   "outputs": [],
   "source": []
  }
 ],
 "metadata": {
  "kernelspec": {
   "display_name": "Python 3 (ipykernel)",
   "language": "python",
   "name": "python3"
  },
  "language_info": {
   "codemirror_mode": {
    "name": "ipython",
    "version": 3
   },
   "file_extension": ".py",
   "mimetype": "text/x-python",
   "name": "python",
   "nbconvert_exporter": "python",
   "pygments_lexer": "ipython3",
   "version": "3.9.7"
  }
 },
 "nbformat": 4,
 "nbformat_minor": 5
}
